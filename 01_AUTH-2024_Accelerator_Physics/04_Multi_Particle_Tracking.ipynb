{
 "cells": [
  {
   "cell_type": "markdown",
   "metadata": {},
   "source": [
    "# Hands-on lattice calculations for the AUTH 2024 Accelerator Phyiscs course\n",
    "*T. Prebibaj, F. Asvesta, Y. Papaphilippou*"
   ]
  },
  {
   "cell_type": "markdown",
   "metadata": {
    "editable": true,
    "slideshow": {
     "slide_type": "slide"
    },
    "tags": []
   },
   "source": [
    "---\n",
    "\n",
    "# Part IV: Tracking multiple particles\n",
    "\n",
    "Exercises to track multiple particles in beamlines.\n",
    "\n",
    "---"
   ]
  },
  {
   "cell_type": "code",
   "execution_count": 1,
   "metadata": {},
   "outputs": [],
   "source": [
    "# Import custom tracking functions and useful libraries\n",
    "from tracking_library import *\n",
    "params = {'legend.fontsize': 'x-large',\n",
    "          'figure.figsize': (15, 5),\n",
    "         'axes.labelsize': 'x-large',\n",
    "         'axes.titlesize':'x-large',\n",
    "         'xtick.labelsize':'x-large',\n",
    "         'ytick.labelsize':'x-large'}\n",
    "plt.rcParams.update(params)"
   ]
  },
  {
   "cell_type": "markdown",
   "metadata": {},
   "source": [
    "## Transverse dynamics of a beam\n",
    "- A beam is an ensemble of particles with different initial conditions (different $x$ and $x'$)\n",
    "                                                                        \n",
    "- In a stable ring, each particle performs a betatron oscillation with a certain amplitude which depends on the beta-function and its single particle emittance. All particles \"see\" the same beta-function along the ring, since it's a property of the lattice. Furthemore, the frequency of the oscillation is the same for all particles, i.e. they all have the same tune.\n",
    "\n",
    "- The dynamics of the beam are the result of the superposition of all these oscillations. "
   ]
  },
  {
   "cell_type": "markdown",
   "metadata": {},
   "source": [
    "### Exercise 15: evolution of a beam along a ring\n",
    "\n",
    "Use the defined ensemble of the particle below (ignore for now the strange numbers).\n",
    "\n",
    "- Track all particles in a ring consisting with 16 FODO cells of $160$ m in circumference and $f/L=0.8$. Plot the trajectory of a single particle and the beam centroid along the beam line.\n",
    "\n",
    "- Plot the standard deviation (i.e. beam size) of the x coordinates along the beam line. \n",
    "    \n",
    "    **Hint:** Remember that in the output of our `transportParticles` function the key `'x'` contains a 2D array with N rows (the index of the position along the beam line) and M columns (the index of a given particle). Moreover, you can compute the standard deviation of **each raw** of a NxM 2D array as `np.std(N_times_M_array,1)`. "
   ]
  },
  {
   "cell_type": "code",
   "execution_count": 2,
   "metadata": {},
   "outputs": [],
   "source": [
    "# Initializing the beam\n",
    "N = 1500\n",
    "X_0 = np.array([np.random.normal(0,1,N),\n",
    "                np.random.normal(0,1,N)])\n",
    "x0 = 0\n",
    "xp0 = 0\n",
    "sigx = np.sqrt(1e-6*8.24659992) \n",
    "sigxp = np.sqrt(1e-6/8.24659992)\n",
    "X_0[0,:] = sigx*X_0[0,:]+x0\n",
    "X_0[1,:] = sigxp*X_0[1,:]+xp0-(-1.28102523)/8.24659992*X_0[0,:]"
   ]
  },
  {
   "cell_type": "code",
   "execution_count": 3,
   "metadata": {},
   "outputs": [],
   "source": [
    "# code your solution here...\n"
   ]
  },
  {
   "cell_type": "code",
   "execution_count": 4,
   "metadata": {},
   "outputs": [],
   "source": [
    "# code your solution here...\n"
   ]
  },
  {
   "cell_type": "code",
   "execution_count": 5,
   "metadata": {},
   "outputs": [],
   "source": [
    "# code your solution here...\n"
   ]
  },
  {
   "cell_type": "markdown",
   "metadata": {},
   "source": [
    "> We notice that:\n",
    ">    - Individual particles perform betatron oscillations. \n",
    ">    - On average, the beam centroid stays at zero (on average beam is \"on-axis\").\n",
    ">    - The beam size modulates according to the beta-function modulation (see Exercise 14)."
   ]
  },
  {
   "cell_type": "markdown",
   "metadata": {},
   "source": [
    "### Exercise 16: beam with an offset\n",
    "\n",
    "Repeat the same exercise as in the previous one, but now with an offset in the beam. The offset should be 2 mm in the x direction."
   ]
  },
  {
   "cell_type": "code",
   "execution_count": 6,
   "metadata": {},
   "outputs": [],
   "source": [
    "# code your solution here...\n"
   ]
  },
  {
   "cell_type": "code",
   "execution_count": 7,
   "metadata": {},
   "outputs": [],
   "source": [
    "# code your solution here...\n"
   ]
  },
  {
   "cell_type": "code",
   "execution_count": 8,
   "metadata": {},
   "outputs": [],
   "source": [
    "# code your solution here...\n"
   ]
  },
  {
   "cell_type": "markdown",
   "metadata": {},
   "source": [
    "> We notice that:\n",
    ">    - When the beam is injected off-axis, the beam centroid is also doing betatron oscillations (injection misteering). \n",
    ">    - It can be show that the average position of a beam along a beam line is the same as the the trajectory of single particle particle that starts in the center of the initial particle distribution.\n",
    ">    - The beam size remains unaffected."
   ]
  },
  {
   "cell_type": "markdown",
   "metadata": {},
   "source": [
    "## Beam emittance\n",
    "\n",
    "- One can easily demonstrate that the same matrix ($M$) used for tracking the coordinates ($(x_i, x'_i)$) of each single particle ($i$) from an initial point ($X_0$) to a final point ($X_s$) in a beamline:\n",
    "\n",
    "    \\begin{equation}\n",
    "    X_s =  M\\, X_0\n",
    "    \\end{equation}\n",
    "\n",
    "  can also be used to track the **average trajectory** ($\\langle X \\rangle$) as well as the **covariance or sigma matrix** of the given particle coordinates distribution:\n",
    "\n",
    "    \\begin{equation}\n",
    "    \\langle X_s \\rangle = \n",
    "    \\left[\n",
    "    \\begin{array}{c}\n",
    "    \\langle x_i \\rangle\\\\\n",
    "    \\langle x'_i \\rangle\n",
    "    \\end{array}\n",
    "    \\right]_s \n",
    "    = M\\, \\langle X_0 \\rangle\n",
    "    \\end{equation}\n",
    "\n",
    "    \\begin{equation}\n",
    "    \\Sigma_s := \\left[\n",
    "    \\begin{array}{c}\n",
    "    \\langle x_i^2 \\rangle \\quad \\langle x_i x'_i \\rangle\\\\\n",
    "    \\langle x'_i x_i \\rangle \\quad \\langle x_i^{'2} \\rangle\n",
    "    \\end{array}\n",
    "    \\right]_s = \\left[\n",
    "    \\begin{array}{c}\n",
    "    \\sigma_{x}^2\\quad \\sigma_{x}\\sigma_{x'}\\\\\n",
    "    \\sigma_{x}\\sigma_{x'}\\quad \\sigma_{x'}^2\n",
    "    \\end{array}\n",
    "    \\right]_s\n",
    "    = M\\, \\Sigma_0\\, M^T\\, .\n",
    "    \\end{equation}\n",
    "\n",
    "    We can therefore track the **average trajectory** and **covariance** of a beam simply starting from its initial average coordinates and covariance matrix in phase space.\n",
    "\n",
    "\n",
    "- The sigma/covariance matrix is usually parametrized with the Twiss parameters as:\n",
    "\n",
    "    \\begin{equation}\n",
    "    \\left[\n",
    "    \\begin{array}{c}\n",
    "    \\sigma_{x}^2\\quad \\sigma_{x}\\sigma_{x'}\\\\\n",
    "    \\sigma_{x}\\sigma_{x'}\\quad \\sigma_{x'}^2\n",
    "    \\end{array}\n",
    "    \\right] =\n",
    "        \\epsilon\n",
    "        \\left[ \n",
    "        \\begin{array}{cc}\n",
    "            \\beta   & -\\alpha\\\\\n",
    "            -\\alpha & \\gamma\n",
    "        \\end{array}\n",
    "        \\right] \n",
    "    \\end{equation}\n",
    "\n",
    "    where $\\beta$, $\\alpha$, $\\gamma$ are the twiss parameters the certain s-position and that $\\epsilon = \\sqrt{\\det(\\Sigma)}$ is now the **beam emittance**. It is reminded that $\\beta \\gamma - \\alpha^2 = 1$.\n",
    "\n",
    "- We recall that $M$ is a real **symplectic** transformation, and its determinant is $\\det(M) = +1$, therefore:\n",
    "\n",
    "    \\begin{equation}\n",
    "    \\epsilon_s^2 = \\det(\\Sigma_s) = \\det( M\\, \\Sigma_0\\, M^T ) = \\det(M) \\det(\\Sigma_0) \\det(M^T) = \\det(\\Sigma_0) = \\epsilon_0^2\n",
    "    \\end{equation}\n",
    "\n",
    "    which means that, like the single particle emittances, the beam emittance is also **preserved** along the ring."
   ]
  },
  {
   "cell_type": "markdown",
   "metadata": {},
   "source": [
    "### Exercise 13: preservation of the beam emittance\n",
    "\n",
    "- Calculate the sigma matrix of the previous example (at all s-positions of the beamline) and plot the emittance along the s-position. \n",
    "- Calculate the $\\alpha$, $\\beta$ and $\\gamma$ parameters from the sigma matrix (Twiss parameters). Plot them and verify that $\\beta\\gamma-\\alpha^2=1$."
   ]
  },
  {
   "cell_type": "code",
   "execution_count": 9,
   "metadata": {},
   "outputs": [],
   "source": [
    "# code your solution here...\n"
   ]
  },
  {
   "cell_type": "code",
   "execution_count": 10,
   "metadata": {},
   "outputs": [],
   "source": [
    "# code your solution here...\n"
   ]
  },
  {
   "cell_type": "code",
   "execution_count": 11,
   "metadata": {},
   "outputs": [],
   "source": [
    "# code your solution here...\n"
   ]
  },
  {
   "cell_type": "markdown",
   "metadata": {},
   "source": [
    "> Note: beta function affects the size of the beam, alpha function affects the tilt of the beam, and gamma function affects the divergence of the beam."
   ]
  },
  {
   "cell_type": "markdown",
   "metadata": {},
   "source": [
    "By changing the properties of our beamline, i.e. the positioning and strength of the quadrupoles and the length of the drifts, the Twiss parameters change and so do the size of the beam, the size and frequency of oscillations, etc. The emittance is an invariant. "
   ]
  },
  {
   "cell_type": "markdown",
   "metadata": {},
   "source": [
    "### Exercise 14: emittance and phase space area\n",
    "\n",
    "\n",
    "- On the distribution of Exercise 11, plot the phase space at two different s-locations of your choise (for example $s=0$ and $s=15$ m). What do you observe?\n",
    "\n",
    "   **Hint:** One can use the `seaborn` package to nicely see a 2D distribution, like in Exercise 2. \n",
    "\n",
    "- Consider 3 particles (e.g. the first 3 of your ensample) such that they define a triangle of surface A. Verify that the area of this triangle is the same between the two s-locations\n",
    "\n",
    "    **Hint:** the area of a triangle in phase space can be computed using linear algebra. You can use the `area` function defined below"
   ]
  },
  {
   "cell_type": "code",
   "execution_count": 12,
   "metadata": {},
   "outputs": [],
   "source": [
    "# this is the formula of the area of a triangle\n",
    "from numpy.linalg import norm\n",
    "def area(a, b, c) :\n",
    "    '''a,b,c are the phase-space coordinates of three particles'''\n",
    "    return 0.5 * norm( np.cross( b-a, c-a ) )"
   ]
  },
  {
   "cell_type": "code",
   "execution_count": 13,
   "metadata": {},
   "outputs": [],
   "source": [
    "# code here your solution...\n"
   ]
  },
  {
   "cell_type": "markdown",
   "metadata": {},
   "source": [
    "> We note that:\n",
    ">    - The particles form ellipses in the phasespace. The ellipse at $s=15$ m is tilted.\n",
    ">    - The orientation of the ellipses changes along s and it depends on the Twiss parameters"
   ]
  },
  {
   "cell_type": "code",
   "execution_count": 14,
   "metadata": {},
   "outputs": [],
   "source": [
    "# code here your solution...\n"
   ]
  },
  {
   "cell_type": "code",
   "execution_count": 15,
   "metadata": {},
   "outputs": [],
   "source": [
    "# code here your solution...\n"
   ]
  },
  {
   "cell_type": "markdown",
   "metadata": {},
   "source": [
    "> Note: the area of the phase space is preserved. The beam emittance is equal to the area of the phase space occupied by the beam over $2\\pi$. "
   ]
  }
 ],
 "metadata": {
  "celltoolbar": "Slideshow",
  "kernelspec": {
   "display_name": "Python 3 (ipykernel)",
   "language": "python",
   "name": "python3"
  },
  "language_info": {
   "codemirror_mode": {
    "name": "ipython",
    "version": 3
   },
   "file_extension": ".py",
   "mimetype": "text/x-python",
   "name": "python",
   "nbconvert_exporter": "python",
   "pygments_lexer": "ipython3",
   "version": "3.9.12"
  },
  "vscode": {
   "interpreter": {
    "hash": "fbec5cc8bb1f13e0584b60d171916a07df7bc30ce2ee62338372c9d5be648ecd"
   }
  }
 },
 "nbformat": 4,
 "nbformat_minor": 4
}
