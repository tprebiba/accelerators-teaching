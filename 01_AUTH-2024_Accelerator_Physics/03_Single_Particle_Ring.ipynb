{
 "cells": [
  {
   "cell_type": "markdown",
   "metadata": {},
   "source": [
    "# Hands-on lattice calculations for the AUTH 2024 Accelerator Phyiscs course\n",
    "*T. Prebibaj, F. Asvesta, Y. Papaphilippou*"
   ]
  },
  {
   "cell_type": "markdown",
   "metadata": {
    "editable": true,
    "slideshow": {
     "slide_type": "slide"
    },
    "tags": []
   },
   "source": [
    "---\n",
    "\n",
    "# Part III: Single particle dynamics in periodic systems.\n",
    "\n",
    "Exercises for periodic systems, like an accelerator ring.\n",
    "\n",
    "---"
   ]
  },
  {
   "cell_type": "code",
   "execution_count": 1,
   "metadata": {},
   "outputs": [],
   "source": [
    "# Import custom tracking functions and useful libraries\n",
    "from tracking_library import *\n",
    "params = {'legend.fontsize': 'x-large',\n",
    "          'figure.figsize': (15, 5),\n",
    "         'axes.labelsize': 'x-large',\n",
    "         'axes.titlesize':'x-large',\n",
    "         'xtick.labelsize':'x-large',\n",
    "         'ytick.labelsize':'x-large'}\n",
    "plt.rcParams.update(params)"
   ]
  },
  {
   "cell_type": "markdown",
   "metadata": {},
   "source": [
    "## Transverse dynamics in a ring\n",
    "\n",
    "- An **accelerator ring** can be viewed as a periodic beamline: it consists of a number of cells/elements which the particles interact repeatedly turn-by-turn. In real accelerators, the particles can perform thousands, millions of tens of millions of turns. Thus, the stability of the particle motion in the **accelerator lattice** (which is the sequence of the accelerator elements) is crucial. \n",
    "\n",
    "- The phase space provides useful information on the dyanmics of the particle motion. "
   ]
  },
  {
   "cell_type": "markdown",
   "metadata": {},
   "source": [
    "### Exercise 11: phase space in a stable ring\n",
    "\n",
    "- Model a stable ring consisting of 16 FODO cells and a total circumference of 160 meters. Each FODO cell should have one focusing and one defocusing quadrupole. Select $f=0.8L$, where L is the length of one of the two equal drifts of each cell.  \n",
    "\n",
    "- Track a single particle with $x_0=0$ and $x'_0=1$ mrad for 100 turns. Plot the particle trajectory turn-by-turn. \n",
    "\n",
    "- Plot the trace of the particle in the phase space at s=0 and s=55 m for the 100 turns. \n"
   ]
  },
  {
   "cell_type": "code",
   "execution_count": 2,
   "metadata": {},
   "outputs": [],
   "source": [
    "# code your solution here...\n"
   ]
  },
  {
   "cell_type": "code",
   "execution_count": 3,
   "metadata": {},
   "outputs": [],
   "source": [
    "# code your solution here...\n"
   ]
  },
  {
   "cell_type": "code",
   "execution_count": 4,
   "metadata": {},
   "outputs": [],
   "source": [
    "# code your solution here...\n"
   ]
  },
  {
   "cell_type": "markdown",
   "metadata": {
    "vscode": {
     "languageId": "bat"
    }
   },
   "source": [
    "- The particle performs turn-by-turn a certain number of betatron oscillations. This number is known as the **betatron tune $Q_x$** (*lecture II slide 35*).\n",
    "\n",
    "- In the phase space, the particle turn-after-turn stays on an ellipse (*lecture II slides 30-31*). This ellipse is parametrized as:\n",
    "\n",
    "    \\begin{equation}\n",
    "    \\gamma x^2 + 2\\alpha xx' + \\beta x'^2 = \\epsilon\n",
    "    \\end{equation}\n",
    "\n",
    "    where $(\\alpha, \\beta, \\gamma)$ are known as the **Twiss parameters** and $\\epsilon$ as **single particle emittance**. The phase space ellipse represents the betatron oscillations around the fixed point, here at $(x,x')=(0,0)$. Remember that the parametrization of the betatron motion is (*lecture II slide 29*): $x(s) = \\sqrt{\\epsilon \\beta(s)} cos(\\psi(s) + \\psi_0)$.\n",
    "\n",
    "- The area enclosed in these ellipses is $A=2\\pi \\cdot \\epsilon$. It can be shown that the single particle emittance is an invariant of motion (Courant-Snyder invariant - *lecture II slide 30*).\n",
    "\n",
    "- The Twiss parameters (which define the orientation of the ellipses) are s-dependent: they depend on the lattice properties (arrangement and strength of quadrupoles). "
   ]
  },
  {
   "cell_type": "markdown",
   "metadata": {},
   "source": [
    "- The equivalent matrix ($M_{eq.}$) of an accelerator ring is known as the **one-turn-map** and is parametrized using the Twiss parameters (*lecture II slide 34*) as:\n",
    "\n",
    "    \\begin{equation}\n",
    "    M = \n",
    "        \\left[\n",
    "        \\begin{array}{cc}\n",
    "        \\cos(\\mu) + \\alpha_0 \\sin(\\mu)  & \\beta_0 \\sin(\\mu)\\\\\n",
    "        - \\gamma_0 \\sin(\\mu) & \\cos(\\mu) - \\alpha_0 \\sin(\\mu)\n",
    "        \\end{array}\n",
    "        \\right]\n",
    "    \\end{equation}\n",
    "\n",
    "    where $\\alpha_0$, $\\beta_0$, $\\gamma_0$ are the initial (and final) Twiss values and $\\mu=2\\pi Q_x$ is the phase advance of the associated beamline or ring. From this expression, one can extract the periodic solution of any beamline, assuming it exists.\n",
    "\n",
    "    Note: Since the determinant of $M$ must be one, then one can verify that the trace of the matrix R must be $|\\mathrm{Tr}(M)| \\le 2$ to ensure the existence of such periodic solution.\n"
   ]
  },
  {
   "cell_type": "markdown",
   "metadata": {},
   "source": [
    "### Exercise 12: optics, trace and single particle emittance of the ring\n",
    " \n",
    "- Compute the Twiss parameters at the beginning of the ring for the lattice of exercise 11 and also the betatron tune. \n",
    "\n",
    "- Calculate the trace of the one-turn-map and verify that it is stable. \n",
    "\n",
    "- Calculate the single particle emittance from the twiss parameters. "
   ]
  },
  {
   "cell_type": "code",
   "execution_count": 5,
   "metadata": {},
   "outputs": [],
   "source": [
    "# code your solution here...\n"
   ]
  },
  {
   "cell_type": "markdown",
   "metadata": {},
   "source": [
    "> Note: the optics (twiss values) are intependent of the particle coordinates: they are an intrinsic property of the lattice."
   ]
  },
  {
   "cell_type": "code",
   "execution_count": 6,
   "metadata": {},
   "outputs": [],
   "source": [
    "# code your solution here...\n"
   ]
  },
  {
   "cell_type": "code",
   "execution_count": 7,
   "metadata": {},
   "outputs": [],
   "source": [
    "# code your solution here...\n"
   ]
  },
  {
   "cell_type": "markdown",
   "metadata": {},
   "source": [
    "\n",
    "\n",
    "- These calculations are very important so we will put them in two functions named `twiss` and `particle_emittance`:"
   ]
  },
  {
   "cell_type": "code",
   "execution_count": 8,
   "metadata": {},
   "outputs": [],
   "source": [
    "def twiss(beamline):\n",
    "    '''\n",
    "    Computes and returns the closed solution (if it exist!) Tune (Q) and Twiss parameters \n",
    "    beta, alpha, gamma of the given beamline.\n",
    "    '''\n",
    "\n",
    "    # first, compute the equivalent \"One-Turn-Map\", and extract its matrix:\n",
    "    OTM = getEquivalentElement(beamline)\n",
    "    R = OTM[0]['matrix']\n",
    "    \n",
    "    # check that this matrix is stable:\n",
    "    trace = np.trace(R)\n",
    "    if np.abs(trace) > 2:\n",
    "        raise ValueError('This beamline is not stable!')\n",
    "    \n",
    "    # all relevant Twiss parameters can be extrcted from the matrix:\n",
    "    mu = np.arccos(0.5*(R[0,0]+R[1,1]))\n",
    "    if (R[0,1]<0): \n",
    "        mu = 2*np.pi-mu\n",
    "    Q = mu/(2*np.pi)\n",
    "    beta = R[0,1]/np.sin(mu)\n",
    "    alpha = (0.5*(R[0,0]-R[1,1]))/np.sin(mu)\n",
    "    gamma = (1+alpha**2)/beta\n",
    "    \n",
    "    return Q, beta, alpha, gamma\n",
    "\n",
    "def particle_emittance(x, xp, beta, alpha):\n",
    "    '''Returns the single particle emittance for a given \n",
    "       x, xp particle coordinates and assumed beta and alpha parameters\n",
    "    '''\n",
    "    # compute gamma\n",
    "    gamma = (alpha**2 + 1)/beta\n",
    "    # compute and return the associated single particle emittance\n",
    "    epsilon = gamma*x**2 + 2*alpha*x*xp + beta*xp**2\n",
    "    return epsilon"
   ]
  },
  {
   "cell_type": "markdown",
   "metadata": {},
   "source": [
    "### Exercise 13: stability of the ring\n",
    "\n",
    "In the ring of Exercise 11, vary the $f$ from $1$ m (very strong focusing) to $15$ m (very weak focusing) and find the values of which the ring permits stable oscillations based on the condition (i.e. $|Tr(R)| \\le 2$). Use the `get_trace(beamline)` function defined below. Plot the Tr(R) for the different ratios of f/L."
   ]
  },
  {
   "cell_type": "code",
   "execution_count": 9,
   "metadata": {},
   "outputs": [],
   "source": [
    "def get_trace(beamline):\n",
    "    '''\n",
    "    Computes and returns the trace of the equivalent \"One-Turn-Map\" of the given beamline.\n",
    "    '''\n",
    "    \n",
    "    # first, compute the equivalent \"One-Turn-Map\", and extract its matrix:\n",
    "    OTM = getEquivalentElement(beamline)\n",
    "    R = OTM[0]['matrix']\n",
    "    \n",
    "    # check that this matrix is stable:\n",
    "    trace = np.trace(R)\n",
    "\n",
    "    return trace"
   ]
  },
  {
   "cell_type": "code",
   "execution_count": 10,
   "metadata": {},
   "outputs": [],
   "source": [
    "# code your solution here...\n"
   ]
  },
  {
   "cell_type": "markdown",
   "metadata": {},
   "source": [
    "- It can be shown (*lecture II slide 36*), that the Twiss functions from $s=s_1$ to $s=s_2$ can be calculated as:\n",
    "\n",
    "    \\begin{equation}\n",
    "    \\left(\n",
    "    \\begin{array}{c}\n",
    "    \\beta \\\\\n",
    "    \\alpha \\\\\n",
    "    \\gamma\n",
    "    \\end{array}\n",
    "    \\right)_{s_1} = \n",
    "    \n",
    "    \\left[\n",
    "    \\begin{array}{c}\n",
    "    m_{11}^2 & -2m_{11}m_{12} & m_{12}^2\\\\\n",
    "    -m_{11}m_{21} & m_{11}m_{22} + m_{12}m_{21} & -m_{22}m_{12}\\\\\n",
    "    m_{21}^2 & -2m_{22}m_{21} & m_{22}^2\\\\\n",
    "    \\end{array}\n",
    "    \\right]\n",
    "    \n",
    "    \\left(\n",
    "    \\begin{array}{c}\n",
    "    \\beta \\\\\n",
    "    \\alpha \\\\\n",
    "    \\gamma\n",
    "    \\end{array}\n",
    "    \\right)_{s_2},\n",
    "    \\end{equation}\n",
    "\n",
    "    where:\n",
    "    \n",
    "    \\begin{equation}\n",
    "    M= \\left[\n",
    "    \\begin{array}{c}\n",
    "    m_{11}\\quad m_{12}\\\\\n",
    "    m_{21}\\quad m_{22}\n",
    "    \\end{array}\n",
    "    \\right]\n",
    "    \\end{equation}\n",
    "\n",
    "    if the transport matrix from $s=s_1$ to $s=s_2$.  We define this in the `transport_optics` function below:"
   ]
  },
  {
   "cell_type": "code",
   "execution_count": 11,
   "metadata": {},
   "outputs": [],
   "source": [
    "def transport_optics(beta1,alpha1,gamma1, M):\n",
    "    '''\n",
    "    This function computes the Twiss parameters of a beamline after \n",
    "    the transport of a beamline with Twiss parameters beta1, alpha1, gamma1\n",
    "    through a matrix M.\n",
    "    '''\n",
    "    # compute the new Twiss parameters\n",
    "    beta2 = M[0,0]**2*beta1 -2*M[0,0]*M[0,1]*alpha1 + M[0,1]**2*gamma1\n",
    "    alpha2 = -M[0,0]*M[1,0]*beta1 + (M[0,0]*M[1,1] + M[0,1]*M[1,0])*alpha1 - M[0,1]*M[1,1]*gamma1\n",
    "    gamma2 = M[1,0]**2*beta1 -2*M[1,0]*M[1,1]*alpha1 + M[1,1]**2*gamma1\n",
    "    \n",
    "    return beta2, alpha2, gamma2"
   ]
  },
  {
   "cell_type": "markdown",
   "metadata": {},
   "source": [
    "### Exercise 14: transport of Twiss functions\n",
    "\n",
    "Find and plot the Twiss functions of the ring of Exercise 11 all around the ring."
   ]
  },
  {
   "cell_type": "code",
   "execution_count": 12,
   "metadata": {},
   "outputs": [],
   "source": [
    "# code your solution here...\n"
   ]
  },
  {
   "cell_type": "code",
   "execution_count": 13,
   "metadata": {},
   "outputs": [],
   "source": [
    "# code your solution here...\n"
   ]
  }
 ],
 "metadata": {
  "celltoolbar": "Slideshow",
  "kernelspec": {
   "display_name": "Python 3 (ipykernel)",
   "language": "python",
   "name": "python3"
  },
  "language_info": {
   "codemirror_mode": {
    "name": "ipython",
    "version": 3
   },
   "file_extension": ".py",
   "mimetype": "text/x-python",
   "name": "python",
   "nbconvert_exporter": "python",
   "pygments_lexer": "ipython3",
   "version": "3.9.12"
  },
  "vscode": {
   "interpreter": {
    "hash": "fbec5cc8bb1f13e0584b60d171916a07df7bc30ce2ee62338372c9d5be648ecd"
   }
  }
 },
 "nbformat": 4,
 "nbformat_minor": 4
}
