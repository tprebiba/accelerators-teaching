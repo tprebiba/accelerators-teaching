{
 "cells": [
  {
   "cell_type": "markdown",
   "metadata": {},
   "source": [
    "# EURO-LABS 2024: Advanced Training School on Operation of Accelerators\n",
    "*T. Prebibaj, F. Asvesta"
   ]
  },
  {
   "cell_type": "markdown",
   "metadata": {
    "editable": true,
    "slideshow": {
     "slide_type": "slide"
    },
    "tags": []
   },
   "source": [
    "---\n",
    "\n",
    "# PSB chromaticity correction calculation using Xsuite\n",
    "\n",
    "---"
   ]
  },
  {
   "cell_type": "code",
   "execution_count": 32,
   "metadata": {},
   "outputs": [],
   "source": [
    "# Import xsuite modules and other libraries\n",
    "import xtrack as xt\n",
    "import xpart as xp\n",
    "\n",
    "from cpymad.madx import Madx\n",
    "import numpy as np\n",
    "import matplotlib.pyplot as plt"
   ]
  },
  {
   "cell_type": "code",
   "execution_count": 36,
   "metadata": {},
   "outputs": [
    {
     "name": "stdout",
     "output_type": "stream",
     "text": [
      "\n",
      "  ++++++++++++++++++++++++++++++++++++++++++++\n",
      "  +     MAD-X 5.08.01  (64 bit, Linux)       +\n",
      "  + Support: mad@cern.ch, http://cern.ch/mad +\n",
      "  + Release   date: 2022.02.25               +\n",
      "  + Execution date: 2024.05.29 16:32:41      +\n",
      "  ++++++++++++++++++++++++++++++++++++++++++++\n",
      "++++++ info: seqedit - number of elements installed:  0\n",
      "++++++ info: seqedit - number of elements moved:      0\n",
      "++++++ info: seqedit - number of elements removed:    0\n",
      "++++++ info: seqedit - number of elements replaced:   0\n",
      "++++++ info: seqedit - number of elements installed:  1\n",
      "++++++ info: seqedit - number of elements moved:      0\n",
      "++++++ info: seqedit - number of elements removed:    0\n",
      "++++++ info: seqedit - number of elements replaced:   0\n"
     ]
    },
    {
     "data": {
      "application/json": {
       "ascii": false,
       "bar_format": null,
       "colour": null,
       "elapsed": 0.007856607437133789,
       "initial": 0,
       "n": 0,
       "ncols": null,
       "nrows": null,
       "postfix": null,
       "prefix": "Converting sequence \"psb1\"",
       "rate": null,
       "total": 530,
       "unit": "it",
       "unit_divisor": 1000,
       "unit_scale": false
      },
      "application/vnd.jupyter.widget-view+json": {
       "model_id": "eb9e37bd4034450f8086e28d0f9b365c",
       "version_major": 2,
       "version_minor": 0
      },
      "text/plain": [
       "Converting sequence \"psb1\":   0%|          | 0/530 [00:00<?, ?it/s]"
      ]
     },
     "metadata": {},
     "output_type": "display_data"
    }
   ],
   "source": [
    "# The MAD-X sequence is at the psb/psb.seq file. The aperture of each element is defined at psb/psb_aperture.dbx\n",
    "mad = Madx()\n",
    "mad.options.echo = False # to not print the stdout of MAD-X  \n",
    "mad.chdir('psb')\n",
    "mad.call('psb_flat_bottom.madx') # loads the PSB sequence, aperture, etc. in MAD-X\n",
    "line= xt.Line.from_madx_sequence(mad.sequence['psb1'],\n",
    "                                 deferred_expressions=True,\n",
    "                                 allow_thick=True)\n",
    "line.twiss_default['method'] = '4d' # to ignore the longitudinal plane"
   ]
  },
  {
   "cell_type": "code",
   "execution_count": 37,
   "metadata": {},
   "outputs": [
    {
     "name": "stdout",
     "output_type": "stream",
     "text": [
      "Reference particle added at gamma0=1.1705262269290748.\n"
     ]
    }
   ],
   "source": [
    "# We need to add a reference particle for the twiss calculation (mass, energy)\n",
    "line.particle_ref=xp.Particles(mass0=xp.PROTON_MASS_EV,gamma0=mad.sequence.psb1.beam.gamma)\n",
    "print('Reference particle added at gamma0=%s.'%(mad.sequence.psb1.beam.gamma))"
   ]
  },
  {
   "cell_type": "code",
   "execution_count": 38,
   "metadata": {},
   "outputs": [
    {
     "name": "stdout",
     "output_type": "stream",
     "text": [
      "Compiling ContextCpu kernels...\n",
      "Done compiling ContextCpu kernels.\n",
      "Compiling ContextCpu kernels...\n",
      "Done compiling ContextCpu kernels.\n",
      "Matching: model call n. 4       \n",
      "\n"
     ]
    },
    {
     "data": {
      "text/plain": [
       "<xdeps.optimize.optimize.Optimize at 0x7f9720274250>"
      ]
     },
     "execution_count": 38,
     "metadata": {},
     "output_type": "execute_result"
    }
   ],
   "source": [
    "# Tune matching\n",
    "line.vars['kbr1xnoh0'] = 0.0\n",
    "Qx0 = 4.403\n",
    "Qy0 = 4.453\n",
    "line.match(\n",
    "      vary=[\n",
    "            xt.Vary('kbrqf', step=1e-8),\n",
    "            xt.Vary('kbrqd', step=1e-8),\n",
    "      ],\n",
    "      targets = [\n",
    "                  xt.Target('qx', Qx0, tol=1e-5),\n",
    "                  xt.Target('qy', Qy0, tol=1e-5)\n",
    "      ]\n",
    ")"
   ]
  },
  {
   "cell_type": "code",
   "execution_count": 39,
   "metadata": {},
   "outputs": [],
   "source": [
    "twiss = line.twiss()\n",
    "twiss_df = twiss.to_pandas()"
   ]
  },
  {
   "cell_type": "code",
   "execution_count": 42,
   "metadata": {},
   "outputs": [
    {
     "name": "stdout",
     "output_type": "stream",
     "text": [
      "Natural machine:\n",
      "(Q_x, Q_y) = (4.402998505462361, 4.45300227179516)\n",
      "(Q'_x, Q'_y) = (-3.736959295910225, -7.333920582466291)\n"
     ]
    }
   ],
   "source": [
    "print('Natural machine:')\n",
    "print('(Q_x, Q_y) = (%s, %s)'%(twiss.qx,twiss.qy)) # Tunes\n",
    "print(\"(Q'_x, Q'_y) = (%s, %s)\"%(twiss.dqx,twiss.dqy)) # Chromaticity"
   ]
  },
  {
   "cell_type": "code",
   "execution_count": 43,
   "metadata": {},
   "outputs": [
    {
     "name": "stdout",
     "output_type": "stream",
     "text": [
      "Matching: model call n. 6       \n",
      "\n"
     ]
    },
    {
     "data": {
      "text/plain": [
       "<xdeps.optimize.optimize.Optimize at 0x7f972200c130>"
      ]
     },
     "execution_count": 43,
     "metadata": {},
     "output_type": "execute_result"
    }
   ],
   "source": [
    "# Correcting chromaticity in one plane\n",
    "plane = 'y'\n",
    "line.match(\n",
    "    vary=[\n",
    "        xt.Vary('kbr1xnoh0', step=1e-8)\n",
    "    ],\n",
    "    targets = [\n",
    "        xt.Target('dq%s'%plane, 0.0, tol=1e-5)\n",
    "    ]\n",
    ")"
   ]
  },
  {
   "cell_type": "code",
   "execution_count": 44,
   "metadata": {},
   "outputs": [],
   "source": [
    "twiss_after = line.twiss()"
   ]
  },
  {
   "cell_type": "code",
   "execution_count": 45,
   "metadata": {},
   "outputs": [
    {
     "name": "stdout",
     "output_type": "stream",
     "text": [
      "After correcting chromaticity in y plane:\n",
      "(Q_x, Q_y) = (4.402998505451622, 4.4530022716522195)\n",
      "(Q'_x, Q'_y) = (-7.1705321095105745, 1.119992987241858e-08)\n",
      "Sextupoles strength needed for correction:  0.370056607427916\n",
      "+0.3098 corresponds to 78 Amps in the real BR.XNOH0; to be verified\n"
     ]
    }
   ],
   "source": [
    "print('After correcting chromaticity in %s plane:'%plane)\n",
    "print('(Q_x, Q_y) = (%s, %s)'%(twiss_after.qx,twiss_after.qy)) # Tunes\n",
    "print(\"(Q'_x, Q'_y) = (%s, %s)\"%(twiss_after.dqx,twiss_after.dqy)) # Chromaticity\n",
    "print('Sextupoles strength needed for correction: ', line.vars['kbr1xnoh0']._value)\n",
    "print('+0.3098 corresponds to 78 Amps in the real BR.XNOH0; to be verified')"
   ]
  },
  {
   "cell_type": "markdown",
   "metadata": {},
   "source": [
    "### To try and \"match\" exactly what is measured in the accelerator (measured tunes + measured chromaticity)"
   ]
  },
  {
   "cell_type": "code",
   "execution_count": 46,
   "metadata": {},
   "outputs": [
    {
     "name": "stdout",
     "output_type": "stream",
     "text": [
      "Matching: model call n. 10       \n",
      "\n",
      "Measured state:\n",
      "(Q_x, Q_y) = (4.403000007486291, 4.453000000017937)\n",
      "(Q'_x, Q'_y) = (-3.8932928140500422, -6.9999999994685425)\n",
      "Sextupoles strength:  0.016848898998567115\n",
      "Matching: model call n. 6       \n",
      "\n",
      "After correcting chromaticity:\n",
      "(Q_x, Q_y) = (4.403000007501474, 4.4529999998753)\n",
      "(Q'_x, Q'_y) = (-7.170530753493054, -5.313083306646149e-08)\n",
      "Sextupoles strength:  0.37005668247912993\n",
      "The difference in the sextupole strength is:  0.3532077834805628\n"
     ]
    }
   ],
   "source": [
    "# First setup the machine to the measured state\n",
    "target_Qx = 4.403\n",
    "target_Qy = 4.453\n",
    "target_dQy = -7.0\n",
    "line.match(\n",
    "      vary=[\n",
    "            xt.Vary('kbrqf', step=1e-8),\n",
    "            xt.Vary('kbrqd', step=1e-8),\n",
    "            xt.Vary('kbr1xnoh0', step=1e-8)\n",
    "      ],\n",
    "      targets = [\n",
    "                  xt.Target('qx', Qx0, tol=1e-5),\n",
    "                  xt.Target('qy', Qy0, tol=1e-5),\n",
    "                  xt.Target('dq%s'%plane, target_dQy, tol=1e-5)\n",
    "      ]\n",
    ")\n",
    "twiss1 = line.twiss()\n",
    "print('Measured state:')\n",
    "print('(Q_x, Q_y) = (%s, %s)'%(twiss1.qx,twiss1.qy))\n",
    "print(\"(Q'_x, Q'_y) = (%s, %s)\"%(twiss1.dqx,twiss1.dqy))\n",
    "print('Sextupoles strength: ', line.vars['kbr1xnoh0']._value)\n",
    "kxnoh0_1 = line.vars['kbr1xnoh0']._value\n",
    "\n",
    "# Now correct the chromaticity\n",
    "line.match(\n",
    "    vary=[\n",
    "        xt.Vary('kbr1xnoh0', step=1e-8)\n",
    "    ],\n",
    "    targets = [\n",
    "        xt.Target('dq%s'%plane, 0.0, tol=1e-5)\n",
    "    ]\n",
    ")\n",
    "twiss2 = line.twiss()\n",
    "print('After correcting chromaticity:')\n",
    "print('(Q_x, Q_y) = (%s, %s)'%(twiss2.qx,twiss2.qy))\n",
    "print(\"(Q'_x, Q'_y) = (%s, %s)\"%(twiss2.dqx,twiss2.dqy))\n",
    "print('Sextupoles strength: ', line.vars['kbr1xnoh0']._value)\n",
    "kxnoh0_2 = line.vars['kbr1xnoh0']._value\n",
    "\n",
    "# Calculate the difference\n",
    "deltak  = kxnoh0_2 - kxnoh0_1\n",
    "print('The difference in the sextupole strength is: ', deltak)"
   ]
  },
  {
   "cell_type": "code",
   "execution_count": null,
   "metadata": {},
   "outputs": [],
   "source": []
  }
 ],
 "metadata": {
  "celltoolbar": "Slideshow",
  "kernelspec": {
   "display_name": "Python 3 (ipykernel)",
   "language": "python",
   "name": "python3"
  },
  "language_info": {
   "codemirror_mode": {
    "name": "ipython",
    "version": 3
   },
   "file_extension": ".py",
   "mimetype": "text/x-python",
   "name": "python",
   "nbconvert_exporter": "python",
   "pygments_lexer": "ipython3",
   "version": "3.9.12"
  },
  "vscode": {
   "interpreter": {
    "hash": "fbec5cc8bb1f13e0584b60d171916a07df7bc30ce2ee62338372c9d5be648ecd"
   }
  }
 },
 "nbformat": 4,
 "nbformat_minor": 4
}
